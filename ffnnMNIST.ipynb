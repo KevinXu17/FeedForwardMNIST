{
 "cells": [
  {
   "cell_type": "code",
   "execution_count": 18,
   "id": "91ad9565-87dc-4ed2-81af-5e6fc518ae11",
   "metadata": {},
   "outputs": [],
   "source": [
    "import torch\n",
    "import torch.nn as nn\n",
    "import torchvision.datasets as datasets \n",
    "import torchvision.transforms as transforms\n",
    "import pandas as pd"
   ]
  },
  {
   "cell_type": "code",
   "execution_count": 19,
   "id": "df4ffe40-9b0c-44a2-86fe-8d9e211143e4",
   "metadata": {},
   "outputs": [],
   "source": [
    "input_size = 784        #Number of input neurons (image pixels)\n",
    "hidden_size = 400       #Number of hidden neurons\n",
    "out_size = 10           #Number of classes (0-9) \n",
    "epochs = 10            #How many times we pass our entire dataset into our network \n",
    "batch_size = 100        #Input size of the data during one iteration \n",
    "learning_rate = 0.001   #How fast we are learning"
   ]
  },
  {
   "cell_type": "code",
   "execution_count": 20,
   "id": "a28a8a43-9b20-41fa-8eda-a3cb60356eac",
   "metadata": {},
   "outputs": [],
   "source": [
    "train_dataset = datasets.MNIST(root='./data',\n",
    "                           train=True,\n",
    "                           transform=transforms.ToTensor(),\n",
    "                           download=True)\n",
    "\n",
    "test_dataset = datasets.MNIST(root='./data',\n",
    "                           train=False,\n",
    "                           transform=transforms.ToTensor())"
   ]
  },
  {
   "cell_type": "code",
   "execution_count": 21,
   "id": "475e5a10-f989-4052-bfd2-0adbd8914735",
   "metadata": {},
   "outputs": [
    {
     "data": {
      "text/plain": [
       "60000"
      ]
     },
     "execution_count": 21,
     "metadata": {},
     "output_type": "execute_result"
    }
   ],
   "source": [
    "len(train_dataset)"
   ]
  },
  {
   "cell_type": "code",
   "execution_count": 22,
   "id": "4d585281-940c-4c9b-8cc9-57e6ea70af83",
   "metadata": {},
   "outputs": [
    {
     "data": {
      "text/plain": [
       "10000"
      ]
     },
     "execution_count": 22,
     "metadata": {},
     "output_type": "execute_result"
    }
   ],
   "source": [
    "len(test_dataset)"
   ]
  },
  {
   "cell_type": "code",
   "execution_count": 23,
   "id": "39d6cf0f-8578-4bf1-bd25-5ce511d0575a",
   "metadata": {},
   "outputs": [
    {
     "data": {
      "text/plain": [
       "<matplotlib.image.AxesImage at 0x2b08457b820>"
      ]
     },
     "execution_count": 23,
     "metadata": {},
     "output_type": "execute_result"
    },
    {
     "data": {
      "image/png": "[encoded data removed]",
      "text/plain": [
       "<Figure size 640x480 with 1 Axes>"
      ]
     },
     "metadata": {},
     "output_type": "display_data"
    }
   ],
   "source": [
    "import matplotlib.pyplot as plt\n",
    "plt.imshow(train_dataset.data[0], cmap='gray')"
   ]
  },
  {
   "cell_type": "code",
   "execution_count": 24,
   "id": "2841a66a-d5e4-4043-b0e4-e1658753ca1e",
   "metadata": {},
   "outputs": [],
   "source": [
    "train_loader = torch.utils.data.DataLoader(dataset=train_dataset,\n",
    "                                          batch_size=batch_size,\n",
    "                                          shuffle=True)\n",
    "\n",
    "test_loader = torch.utils.data.DataLoader(dataset=test_dataset,\n",
    "                                          batch_size=batch_size,\n",
    "                                          shuffle=False)"
   ]
  },
  {
   "cell_type": "code",
   "execution_count": 25,
   "id": "939eff97-f00b-4da5-abe8-8cb312628e85",
   "metadata": {},
   "outputs": [],
   "source": [
    "class Net(nn.Module):\n",
    "    def __init__(self, input_size, hidden_size, out_size):\n",
    "        super(Net, self).__init__()                    \n",
    "        self.fc1 = nn.Linear(input_size, hidden_size)    #First Layer                           \n",
    "        self.fc2 = nn.Linear(hidden_size, hidden_size)      #Second Layer Activation\n",
    "        self.fc3 = nn.Linear(hidden_size, out_size)\n",
    "        self.relu = nn.ReLU()\n",
    "        self.init_weights()\n",
    "        \n",
    "    def init_weights(self):\n",
    "        nn.init.kaiming_normal_(self.fc1.weight)\n",
    "        #nn.init.kaiming_normal_(self.fc2.weight)\n",
    "\n",
    "    def forward(self, x):                          \n",
    "        out = self.fc1(x)\n",
    "        out = self.relu(out)\n",
    "        out = self.fc2(out)\n",
    "        out = self.relu(out)\n",
    "        out = self.fc3(out)\n",
    "        return out"
   ]
  },
  {
   "cell_type": "code",
   "execution_count": 26,
   "id": "339c91c8-556d-4d71-a74a-b30f59bbd5b4",
   "metadata": {},
   "outputs": [],
   "source": [
    "#Create an object of the class, which represents our network \n",
    "net = Net(input_size, hidden_size, out_size)\n",
    "CUDA = torch.cuda.is_available()\n",
    "if CUDA:\n",
    "    net = net.cuda()\n",
    "#The loss function. The Cross Entropy loss comes along with Softmax. Therefore, no need to specify Softmax as well\n",
    "criterion = nn.CrossEntropyLoss()\n",
    "optimizer = torch.optim.Adam(net.parameters(), lr=learning_rate)"
   ]
  },
  {
   "cell_type": "code",
   "execution_count": 27,
   "id": "49dfa394-791f-49a8-8bb7-062b0836bbb0",
   "metadata": {},
   "outputs": [
    {
     "name": "stdout",
     "output_type": "stream",
     "text": [
      "Epoch [1/10], Training Loss: 0.252, Training Accuracy: 92.640%\n",
      "Epoch [2/10], Training Loss: 0.092, Training Accuracy: 97.127%\n",
      "Epoch [3/10], Training Loss: 0.058, Training Accuracy: 98.192%\n",
      "Epoch [4/10], Training Loss: 0.041, Training Accuracy: 98.687%\n",
      "Epoch [5/10], Training Loss: 0.032, Training Accuracy: 98.965%\n",
      "Epoch [6/10], Training Loss: 0.024, Training Accuracy: 99.215%\n",
      "Epoch [7/10], Training Loss: 0.022, Training Accuracy: 99.267%\n",
      "Epoch [8/10], Training Loss: 0.018, Training Accuracy: 99.395%\n",
      "Epoch [9/10], Training Loss: 0.014, Training Accuracy: 99.513%\n",
      "Epoch [10/10], Training Loss: 0.011, Training Accuracy: 99.643%\n",
      "DONE TRAINING!\n"
     ]
    }
   ],
   "source": [
    "#Train the network\n",
    "for epoch in range(epochs):\n",
    "    correct_train = 0\n",
    "    running_loss = 0\n",
    "    for i, (images, labels) in enumerate(train_loader):   \n",
    "        #Flatten the image from size (batch,1,28,28) --> (100,1,28,28) where 1 represents the number of channels (grayscale-->1),\n",
    "        # to size (100,784) and wrap it in a variable\n",
    "        images = images.view(-1, 28*28)    \n",
    "        if CUDA:\n",
    "            images = images.cuda()\n",
    "            labels = labels.cuda()\n",
    "            \n",
    "        outputs = net(images)       \n",
    "        _, predicted = torch.max(outputs.data, 1)                                              \n",
    "        correct_train += (predicted == labels).sum() \n",
    "        loss = criterion(outputs, labels)                 # Difference between the actual and predicted (loss function)\n",
    "        running_loss += loss.item()\n",
    "        optimizer.zero_grad() \n",
    "        loss.backward()                                   # Backpropagation\n",
    "        optimizer.step()                                  # Update the weights\n",
    "        \n",
    "    print('Epoch [{}/{}], Training Loss: {:.3f}, Training Accuracy: {:.3f}%'.format\n",
    "          (epoch+1, epochs, running_loss/len(train_loader), (100*correct_train.double()/len(train_dataset))))\n",
    "print(\"DONE TRAINING!\")"
   ]
  },
  {
   "cell_type": "code",
   "execution_count": 28,
   "id": "a36bfc46-ff06-41ec-a539-875f68ed71f9",
   "metadata": {},
   "outputs": [
    {
     "name": "stdout",
     "output_type": "stream",
     "text": [
      "Accuracy of the network on the 10000 test images: 97.82 %\n"
     ]
    }
   ],
   "source": [
    "with torch.no_grad():\n",
    "    correct = 0\n",
    "    for images, labels in test_loader:\n",
    "        if CUDA:\n",
    "            images = images.cuda()\n",
    "            labels = labels.cuda()\n",
    "        images = images.view(-1, 28*28)\n",
    "        outputs = net(images)\n",
    "        _, predicted = torch.max(outputs.data, 1)\n",
    "        correct += (predicted == labels).sum().item()\n",
    "\n",
    "    print('Accuracy of the network on the 10000 test images: {} %'.format(100 * correct / len(test_dataset)))"
   ]
  },
  {
   "cell_type": "code",
   "execution_count": null,
   "id": "a71b69f5-47b7-4d4f-a328-4af951d599fa",
   "metadata": {},
   "outputs": [],
   "source": []
  },
  {
   "cell_type": "code",
   "execution_count": null,
   "id": "72926525-104e-40c1-b116-ce5fe51c85a2",
   "metadata": {},
   "outputs": [],
   "source": []
  },
  {
   "cell_type": "markdown",
   "id": "43fed13b-fa12-4db0-8c35-bd815475e451",
   "metadata": {},
   "source": [
    "## TEST with my writing"
   ]
  },
  {
   "cell_type": "code",
   "execution_count": 29,
   "id": "ed1bb52b-9be2-4cb4-b629-3aa94bb44670",
   "metadata": {},
   "outputs": [
    {
     "data": {
      "text/plain": [
       "<matplotlib.image.AxesImage at 0x2b10efea700>"
      ]
     },
     "execution_count": 29,
     "metadata": {},
     "output_type": "execute_result"
    },
    {
     "data": {
      "image/png": "[encoded data removed]",
      "text/plain": [
       "<Figure size 640x480 with 1 Axes>"
      ]
     },
     "metadata": {},
     "output_type": "display_data"
    }
   ],
   "source": [
    "import cv2 \n",
    "import matplotlib.pyplot as plt\n",
    "import tensorflow as tf\n",
    "\n",
    "# Load sample image\n",
    "file = 'my_6.png'\n",
    "test_image = cv2.imread(file, cv2.IMREAD_GRAYSCALE)\n",
    "\n",
    "# Preview sample image\n",
    "plt.imshow(test_image, cmap='gray')\n",
    "\n",
    "# Format Image\n",
    "img_resized = cv2.resize(test_image, (28, 28), interpolation=cv2.INTER_LINEAR)\n",
    "img_resized = cv2.bitwise_not(img_resized)\n",
    "\n",
    "# Preview reformatted image\n",
    "plt.imshow(img_resized, cmap='gray')\n",
    "\n",
    "#my_6 = tf.convert_to_tensor(img_resized)"
   ]
  },
  {
   "cell_type": "code",
   "execution_count": 30,
   "id": "d20ef434-1af2-43fc-8e58-141b472c39be",
   "metadata": {},
   "outputs": [
    {
     "data": {
      "text/plain": [
       "numpy.ndarray"
      ]
     },
     "execution_count": 30,
     "metadata": {},
     "output_type": "execute_result"
    }
   ],
   "source": [
    "type(img_resized)"
   ]
  },
  {
   "cell_type": "code",
   "execution_count": 31,
   "id": "9719e224-81c6-4197-b3ba-db1fb08e2b9a",
   "metadata": {},
   "outputs": [],
   "source": [
    "img = transforms.ToTensor()(img_resized)\n",
    "images = img.view(-1, 28*28)    \n",
    "if CUDA:\n",
    "    images = images.cuda()\n",
    "    labels = labels.cuda()\n",
    "\n",
    "outputs = net(images)       \n",
    "_, predicted = torch.max(outputs.data, 1) "
   ]
  },
  {
   "cell_type": "code",
   "execution_count": 32,
   "id": "bfa7b479-a0e4-4801-865e-f3c95a80920b",
   "metadata": {},
   "outputs": [
    {
     "name": "stdout",
     "output_type": "stream",
     "text": [
      "tensor([6], device='cuda:0')\n"
     ]
    }
   ],
   "source": [
    "print(predicted)"
   ]
  },
  {
   "cell_type": "code",
   "execution_count": 33,
   "id": "b6694a0d-a024-4ca2-8550-e47447811920",
   "metadata": {},
   "outputs": [
    {
     "data": {
      "text/plain": [
       "tensor([[-5.2221, -3.2552, -1.1738, -6.4142, -5.3544,  2.2963,  2.7828, -6.2381,\n",
       "          2.2659, -1.4853]], device='cuda:0', grad_fn=<AddmmBackward0>)"
      ]
     },
     "execution_count": 33,
     "metadata": {},
     "output_type": "execute_result"
    }
   ],
   "source": [
    "outputs"
   ]
  },
  {
   "cell_type": "code",
   "execution_count": null,
   "id": "4f9a6122-c769-4bfa-949b-9c0b378633b6",
   "metadata": {},
   "outputs": [],
   "source": []
  },
  {
   "cell_type": "code",
   "execution_count": null,
   "id": "fbdb9ee1-9177-44de-be94-1b5cde36967a",
   "metadata": {},
   "outputs": [],
   "source": []
  }
 ],
 "metadata": {
  "kernelspec": {
   "display_name": "Python 3 (ipykernel)",
   "language": "python",
   "name": "python3"
  },
  "language_info": {
   "codemirror_mode": {
    "name": "ipython",
    "version": 3
   },
   "file_extension": ".py",
   "mimetype": "text/x-python",
   "name": "python",
   "nbconvert_exporter": "python",
   "pygments_lexer": "ipython3",
   "version": "3.8.6rc1"
  },
  "widgets": {
   "application/vnd.jupyter.widget-state+json": {
    "state": {
     "02e8cf8ca46047f78603d03a67bbf31a": {
      "model_module": "@jupyter-widgets/base",
      "model_module_version": "1.2.0",
      "model_name": "LayoutModel",
      "state": {}
     },
     "0a0c42ecde6d4d86831c2b314da28de6": {
      "model_module": "@jupyter-widgets/base",
      "model_module_version": "1.2.0",
      "model_name": "LayoutModel",
      "state": {}
     },
     "0f584fc1bebd4d06a33d1182a18a991e": {
      "model_module": "@jupyter-widgets/controls",
      "model_module_version": "1.5.0",
      "model_name": "FloatProgressModel",
      "state": {
       "bar_style": "success",
       "layout": "IPY_MODEL_ef4d7db5d5894a7ca839e6ce6418e361",
       "max": 1,
       "style": "IPY_MODEL_482b33137a9940c89cf33bc599e0038f",
       "value": 1
      }
     },
     "0fe970d50c674996b33989d49c85389d": {
      "model_module": "@jupyter-widgets/controls",
      "model_module_version": "1.5.0",
      "model_name": "HTMLModel",
      "state": {
       "layout": "IPY_MODEL_4958bb921ec64b5280061a010ac18683",
       "style": "IPY_MODEL_c2b1dbd57fe7468ba221fe2404bcad0c"
      }
     },
     "158f04964be040aa842e54c030380273": {
      "model_module": "@jupyter-widgets/controls",
      "model_module_version": "1.5.0",
      "model_name": "HTMLModel",
      "state": {
       "layout": "IPY_MODEL_2878cb1acda545168ef7e3e38c853aa4",
       "style": "IPY_MODEL_84cdc11f0d02421e933f847b9ecb7c78",
       "value": " 9920512/? [04:18&lt;00:00, 8070014.31it/s]"
      }
     },
     "1603c530beeb44e2a0a84f1ef80acafe": {
      "model_module": "@jupyter-widgets/controls",
      "model_module_version": "1.5.0",
      "model_name": "DescriptionStyleModel",
      "state": {
       "description_width": ""
      }
     },
     "206eed97035a49bba067537131ac7887": {
      "model_module": "@jupyter-widgets/base",
      "model_module_version": "1.2.0",
      "model_name": "LayoutModel",
      "state": {
       "width": "20px"
      }
     },
     "245ca80260544a589eeea829d57b0391": {
      "model_module": "@jupyter-widgets/controls",
      "model_module_version": "1.5.0",
      "model_name": "HBoxModel",
      "state": {
       "children": [
        "IPY_MODEL_0fe970d50c674996b33989d49c85389d",
        "IPY_MODEL_f0c70e46d500447095c62422df094949",
        "IPY_MODEL_559fac24299b43bfa9a00a3ddb5e9f88"
       ],
       "layout": "IPY_MODEL_548f471c4097420fb7109ee895962709"
      }
     },
     "2878cb1acda545168ef7e3e38c853aa4": {
      "model_module": "@jupyter-widgets/base",
      "model_module_version": "1.2.0",
      "model_name": "LayoutModel",
      "state": {}
     },
     "2a28495f05fa478d9f21252bae69baea": {
      "model_module": "@jupyter-widgets/base",
      "model_module_version": "1.2.0",
      "model_name": "LayoutModel",
      "state": {}
     },
     "359da0a1781943c08091db0c88e1bc3c": {
      "model_module": "@jupyter-widgets/controls",
      "model_module_version": "1.5.0",
      "model_name": "DescriptionStyleModel",
      "state": {
       "description_width": ""
      }
     },
     "381c97800b4c463fb84175fa24c03581": {
      "model_module": "@jupyter-widgets/controls",
      "model_module_version": "1.5.0",
      "model_name": "ProgressStyleModel",
      "state": {
       "description_width": ""
      }
     },
     "3f08133204da4418a7ce69d637c45319": {
      "model_module": "@jupyter-widgets/base",
      "model_module_version": "1.2.0",
      "model_name": "LayoutModel",
      "state": {
       "width": "20px"
      }
     },
     "482b33137a9940c89cf33bc599e0038f": {
      "model_module": "@jupyter-widgets/controls",
      "model_module_version": "1.5.0",
      "model_name": "ProgressStyleModel",
      "state": {
       "description_width": ""
      }
     },
     "4958bb921ec64b5280061a010ac18683": {
      "model_module": "@jupyter-widgets/base",
      "model_module_version": "1.2.0",
      "model_name": "LayoutModel",
      "state": {}
     },
     "4d970ee2b649456e9b6c5f3d478f23f9": {
      "model_module": "@jupyter-widgets/controls",
      "model_module_version": "1.5.0",
      "model_name": "DescriptionStyleModel",
      "state": {
       "description_width": ""
      }
     },
     "4ec375c5125140afb9ef6a8e8a7e73df": {
      "model_module": "@jupyter-widgets/controls",
      "model_module_version": "1.5.0",
      "model_name": "HTMLModel",
      "state": {
       "layout": "IPY_MODEL_7950f86af1a24811a10d18f3ca60f673",
       "style": "IPY_MODEL_359da0a1781943c08091db0c88e1bc3c"
      }
     },
     "548f471c4097420fb7109ee895962709": {
      "model_module": "@jupyter-widgets/base",
      "model_module_version": "1.2.0",
      "model_name": "LayoutModel",
      "state": {}
     },
     "559fac24299b43bfa9a00a3ddb5e9f88": {
      "model_module": "@jupyter-widgets/controls",
      "model_module_version": "1.5.0",
      "model_name": "HTMLModel",
      "state": {
       "layout": "IPY_MODEL_0a0c42ecde6d4d86831c2b314da28de6",
       "style": "IPY_MODEL_1603c530beeb44e2a0a84f1ef80acafe",
       "value": " 8192/? [04:15&lt;00:00, 32.01it/s]"
      }
     },
     "58b4be5c06e642e2a8115c2b4211e0d2": {
      "model_module": "@jupyter-widgets/base",
      "model_module_version": "1.2.0",
      "model_name": "LayoutModel",
      "state": {}
     },
     "66fb81f4d5364452a2a8c2106d2cb0f1": {
      "model_module": "@jupyter-widgets/controls",
      "model_module_version": "1.5.0",
      "model_name": "FloatProgressModel",
      "state": {
       "bar_style": "success",
       "layout": "IPY_MODEL_7e52b80c3af847a3b9ac65ba6de72e83",
       "max": 1,
       "style": "IPY_MODEL_e597884e9f2c47959c974a44305efdff",
       "value": 1
      }
     },
     "724cacf47dc14f9dae2164603ab89af9": {
      "model_module": "@jupyter-widgets/base",
      "model_module_version": "1.2.0",
      "model_name": "LayoutModel",
      "state": {}
     },
     "7950f86af1a24811a10d18f3ca60f673": {
      "model_module": "@jupyter-widgets/base",
      "model_module_version": "1.2.0",
      "model_name": "LayoutModel",
      "state": {}
     },
     "7ac7f6bcb36e44859c9cd28c6dcee4d2": {
      "model_module": "@jupyter-widgets/controls",
      "model_module_version": "1.5.0",
      "model_name": "HBoxModel",
      "state": {
       "children": [
        "IPY_MODEL_4ec375c5125140afb9ef6a8e8a7e73df",
        "IPY_MODEL_cff4445f499f4018bfe867f7cc0801e4",
        "IPY_MODEL_b4927c9ea66147c39e6d1f848c8dbaef"
       ],
       "layout": "IPY_MODEL_2a28495f05fa478d9f21252bae69baea"
      }
     },
     "7e52b80c3af847a3b9ac65ba6de72e83": {
      "model_module": "@jupyter-widgets/base",
      "model_module_version": "1.2.0",
      "model_name": "LayoutModel",
      "state": {
       "width": "20px"
      }
     },
     "84cdc11f0d02421e933f847b9ecb7c78": {
      "model_module": "@jupyter-widgets/controls",
      "model_module_version": "1.5.0",
      "model_name": "DescriptionStyleModel",
      "state": {
       "description_width": ""
      }
     },
     "91d69b71adac4ba18ce72e77df06e9dc": {
      "model_module": "@jupyter-widgets/controls",
      "model_module_version": "1.5.0",
      "model_name": "HBoxModel",
      "state": {
       "children": [
        "IPY_MODEL_e37b50e72c0c4972a6137608b05cb179",
        "IPY_MODEL_0f584fc1bebd4d06a33d1182a18a991e",
        "IPY_MODEL_158f04964be040aa842e54c030380273"
       ],
       "layout": "IPY_MODEL_724cacf47dc14f9dae2164603ab89af9"
      }
     },
     "976674d366514c7292eaa2281e6775b4": {
      "model_module": "@jupyter-widgets/controls",
      "model_module_version": "1.5.0",
      "model_name": "DescriptionStyleModel",
      "state": {
       "description_width": ""
      }
     },
     "a863bf07273a4277bebc1756ece6938b": {
      "model_module": "@jupyter-widgets/controls",
      "model_module_version": "1.5.0",
      "model_name": "DescriptionStyleModel",
      "state": {
       "description_width": ""
      }
     },
     "b4927c9ea66147c39e6d1f848c8dbaef": {
      "model_module": "@jupyter-widgets/controls",
      "model_module_version": "1.5.0",
      "model_name": "HTMLModel",
      "state": {
       "layout": "IPY_MODEL_b4ad59eab1a34b5b9508b269dec03a4a",
       "style": "IPY_MODEL_4d970ee2b649456e9b6c5f3d478f23f9",
       "value": " 1654784/? [04:16&lt;00:00, 9449406.58it/s]"
      }
     },
     "b4ad59eab1a34b5b9508b269dec03a4a": {
      "model_module": "@jupyter-widgets/base",
      "model_module_version": "1.2.0",
      "model_name": "LayoutModel",
      "state": {}
     },
     "bc8b954715c84aa4b3a97406af92778d": {
      "model_module": "@jupyter-widgets/controls",
      "model_module_version": "1.5.0",
      "model_name": "HTMLModel",
      "state": {
       "layout": "IPY_MODEL_e2ff6c48b863448b8801bed2cce930bc",
       "style": "IPY_MODEL_a863bf07273a4277bebc1756ece6938b"
      }
     },
     "c2b1dbd57fe7468ba221fe2404bcad0c": {
      "model_module": "@jupyter-widgets/controls",
      "model_module_version": "1.5.0",
      "model_name": "DescriptionStyleModel",
      "state": {
       "description_width": ""
      }
     },
     "c72afa9a2f5d492fb77d48e3012101da": {
      "model_module": "@jupyter-widgets/controls",
      "model_module_version": "1.5.0",
      "model_name": "HBoxModel",
      "state": {
       "children": [
        "IPY_MODEL_bc8b954715c84aa4b3a97406af92778d",
        "IPY_MODEL_66fb81f4d5364452a2a8c2106d2cb0f1",
        "IPY_MODEL_e948e3d7bb324f5c9b79fc87349d3bfb"
       ],
       "layout": "IPY_MODEL_58b4be5c06e642e2a8115c2b4211e0d2"
      }
     },
     "c7dd5db73ef64596aac57902980d90b7": {
      "model_module": "@jupyter-widgets/controls",
      "model_module_version": "1.5.0",
      "model_name": "DescriptionStyleModel",
      "state": {
       "description_width": ""
      }
     },
     "cff4445f499f4018bfe867f7cc0801e4": {
      "model_module": "@jupyter-widgets/controls",
      "model_module_version": "1.5.0",
      "model_name": "FloatProgressModel",
      "state": {
       "bar_style": "success",
       "layout": "IPY_MODEL_206eed97035a49bba067537131ac7887",
       "max": 1,
       "style": "IPY_MODEL_381c97800b4c463fb84175fa24c03581",
       "value": 1
      }
     },
     "e2ff6c48b863448b8801bed2cce930bc": {
      "model_module": "@jupyter-widgets/base",
      "model_module_version": "1.2.0",
      "model_name": "LayoutModel",
      "state": {}
     },
     "e37b50e72c0c4972a6137608b05cb179": {
      "model_module": "@jupyter-widgets/controls",
      "model_module_version": "1.5.0",
      "model_name": "HTMLModel",
      "state": {
       "layout": "IPY_MODEL_02e8cf8ca46047f78603d03a67bbf31a",
       "style": "IPY_MODEL_c7dd5db73ef64596aac57902980d90b7"
      }
     },
     "e597884e9f2c47959c974a44305efdff": {
      "model_module": "@jupyter-widgets/controls",
      "model_module_version": "1.5.0",
      "model_name": "ProgressStyleModel",
      "state": {
       "description_width": ""
      }
     },
     "e948e3d7bb324f5c9b79fc87349d3bfb": {
      "model_module": "@jupyter-widgets/controls",
      "model_module_version": "1.5.0",
      "model_name": "HTMLModel",
      "state": {
       "layout": "IPY_MODEL_fd60d5d23ba44a8091fed67535e4ca49",
       "style": "IPY_MODEL_976674d366514c7292eaa2281e6775b4",
       "value": " 32768/? [00:00&lt;00:00, 141520.84it/s]"
      }
     },
     "ede8ca6882fd4b258f9a6834f0f59051": {
      "model_module": "@jupyter-widgets/controls",
      "model_module_version": "1.5.0",
      "model_name": "ProgressStyleModel",
      "state": {
       "description_width": ""
      }
     },
     "ef4d7db5d5894a7ca839e6ce6418e361": {
      "model_module": "@jupyter-widgets/base",
      "model_module_version": "1.2.0",
      "model_name": "LayoutModel",
      "state": {
       "width": "20px"
      }
     },
     "f0c70e46d500447095c62422df094949": {
      "model_module": "@jupyter-widgets/controls",
      "model_module_version": "1.5.0",
      "model_name": "FloatProgressModel",
      "state": {
       "bar_style": "success",
       "layout": "IPY_MODEL_3f08133204da4418a7ce69d637c45319",
       "max": 1,
       "style": "IPY_MODEL_ede8ca6882fd4b258f9a6834f0f59051",
       "value": 1
      }
     },
     "fd60d5d23ba44a8091fed67535e4ca49": {
      "model_module": "@jupyter-widgets/base",
      "model_module_version": "1.2.0",
      "model_name": "LayoutModel",
      "state": {}
     }
    },
    "version_major": 2,
    "version_minor": 0
   }
  }
 },
 "nbformat": 4,
 "nbformat_minor": 5
}
